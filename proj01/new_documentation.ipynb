{
 "cells": [
  {
   "cell_type": "code",
   "execution_count": 2,
   "metadata": {},
   "outputs": [],
   "source": [
    "import re\n",
    "import os\n",
    "import nltk\n",
    "import pandas as pd\n",
    "import numpy as np\n",
    "from nltk.corpus import stopwords\n",
    "from nltk.stem import WordNetLemmatizer\n",
    "import string\n",
    "from collections import defaultdict"
   ]
  },
  {
   "cell_type": "code",
   "execution_count": 3,
   "metadata": {},
   "outputs": [],
   "source": [
    "\n",
    "stop_words_paht='data/reuters/stopwords'\n",
    "stop_words1=[]\n",
    "with open(stop_words_paht,'r') as file:\n",
    "    content=file.read().split('\\n')\n",
    "    stop_words1.append(content)\n",
    "stop_words1=stop_words1[0]"
   ]
  },
  {
   "cell_type": "code",
   "execution_count": 4,
   "metadata": {},
   "outputs": [],
   "source": [
    "#stop words from nltk\n",
    "stop_words2 = set(stopwords.words('english'))\n",
    "stop_words2=list(stop_words2)"
   ]
  },
  {
   "cell_type": "code",
   "execution_count": 5,
   "metadata": {},
   "outputs": [],
   "source": [
    "stop_words=stop_words2+stop_words1"
   ]
  },
  {
   "cell_type": "code",
   "execution_count": 45,
   "metadata": {},
   "outputs": [],
   "source": [
    "lematizer=WordNetLemmatizer()\n",
    "\n",
    "def preprocess(text,stop_words):\n",
    "    text=re.sub(r'[^a-zA-Z\\s]', '', text)\n",
    "    text = re.sub(r'\\s+', ' ', text).strip()\n",
    "    word_list=text.lower().translate(str.maketrans('', '', string.punctuation)).split(\" \")\n",
    "    for word in word_list:\n",
    "        if word in stop_words and word:\n",
    "            word_list.remove(word)\n",
    "    return \" \".join([lematizer.lemmatize(word) for word in word_list])\n",
    "    \n"
   ]
  },
  {
   "cell_type": "code",
   "execution_count": null,
   "metadata": {},
   "outputs": [],
   "source": []
  },
  {
   "cell_type": "code",
   "execution_count": 47,
   "metadata": {},
   "outputs": [],
   "source": [
    "data_directory = 'data/reuters/training/'\n",
    "filenames=os.listdir(data_directory)\n",
    "filenames.sort(key=lambda x: int(x))"
   ]
  },
  {
   "cell_type": "code",
   "execution_count": null,
   "metadata": {},
   "outputs": [],
   "source": [
    "real_doc={}\n",
    "process_doc={}\n",
    "df = pd.DataFrame(columns=['id', 'path', 'content','preprocess content'])\n",
    "def load_data(filenames_list,stop_words):\n",
    "  for filename in filenames_list:\n",
    "    with open(os.path.join(data_directory, filename), 'r') as file:\n",
    "      content = file.read()\n",
    "      content_preprocess=preprocess(content,stop_words)\n",
    "\n",
    "\n"
   ]
  }
 ],
 "metadata": {
  "kernelspec": {
   "display_name": "Python 3",
   "language": "python",
   "name": "python3"
  },
  "language_info": {
   "codemirror_mode": {
    "name": "ipython",
    "version": 3
   },
   "file_extension": ".py",
   "mimetype": "text/x-python",
   "name": "python",
   "nbconvert_exporter": "python",
   "pygments_lexer": "ipython3",
   "version": "3.9.2"
  }
 },
 "nbformat": 4,
 "nbformat_minor": 2
}
