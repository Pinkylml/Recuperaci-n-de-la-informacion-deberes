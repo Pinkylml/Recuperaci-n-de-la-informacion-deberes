{
 "cells": [
  {
   "cell_type": "markdown",
   "metadata": {},
   "source": [
    "## Workshop: Building an Information Retrieval System for Podcast Episodes\n",
    "\n",
    "**Objective:**\n",
    "Create an Information Retrieval (IR) system that processes a dataset of podcast transcripts and, given a query, returns the episodes where the host and guest discuss the query topic. Use TF-IDF and BERT for vector space representation and compare the results.\n",
    "\n",
    "**Instructions:**\n",
    "\n",
    "**Step 1: Import Libraries**\n",
    "Import necessary libraries for data handling, text processing, and machine learning.\n"
   ]
  },
  {
   "cell_type": "code",
   "execution_count": 1,
   "metadata": {},
   "outputs": [],
   "source": [
    "import re\n",
    "import os\n",
    "import nltk\n",
    "import pandas as pd\n",
    "import numpy as np\n",
    "from nltk.corpus import stopwords\n",
    "from nltk.stem import WordNetLemmatizer\n",
    "import string\n",
    "from collections import defaultdict\n",
    "from sklearn.feature_extraction.text import CountVectorizer, TfidfVectorizer\n",
    "from sklearn.metrics.pairwise import cosine_similarity"
   ]
  },
  {
   "cell_type": "markdown",
   "metadata": {},
   "source": [
    "**Step 2: Load the Dataset**\n",
    "Load the dataset of podcast transcripts.\n",
    "\n",
    "Find the dataset in: https://www.kaggle.com/datasets/rajneesh231/lex-fridman-podcast-transcript\n",
    "we donwload the dataset in csv format and save in folder data"
   ]
  },
  {
   "cell_type": "code",
   "execution_count": 2,
   "metadata": {},
   "outputs": [
    {
     "data": {
      "text/html": [
       "<div>\n",
       "<style scoped>\n",
       "    .dataframe tbody tr th:only-of-type {\n",
       "        vertical-align: middle;\n",
       "    }\n",
       "\n",
       "    .dataframe tbody tr th {\n",
       "        vertical-align: top;\n",
       "    }\n",
       "\n",
       "    .dataframe thead th {\n",
       "        text-align: right;\n",
       "    }\n",
       "</style>\n",
       "<table border=\"1\" class=\"dataframe\">\n",
       "  <thead>\n",
       "    <tr style=\"text-align: right;\">\n",
       "      <th></th>\n",
       "      <th>id</th>\n",
       "      <th>guest</th>\n",
       "      <th>title</th>\n",
       "      <th>text</th>\n",
       "    </tr>\n",
       "  </thead>\n",
       "  <tbody>\n",
       "    <tr>\n",
       "      <th>0</th>\n",
       "      <td>1</td>\n",
       "      <td>Max Tegmark</td>\n",
       "      <td>Life 3.0</td>\n",
       "      <td>As part of MIT course 6S099, Artificial Genera...</td>\n",
       "    </tr>\n",
       "    <tr>\n",
       "      <th>1</th>\n",
       "      <td>2</td>\n",
       "      <td>Christof Koch</td>\n",
       "      <td>Consciousness</td>\n",
       "      <td>As part of MIT course 6S099 on artificial gene...</td>\n",
       "    </tr>\n",
       "    <tr>\n",
       "      <th>2</th>\n",
       "      <td>3</td>\n",
       "      <td>Steven Pinker</td>\n",
       "      <td>AI in the Age of Reason</td>\n",
       "      <td>You've studied the human mind, cognition, lang...</td>\n",
       "    </tr>\n",
       "    <tr>\n",
       "      <th>3</th>\n",
       "      <td>4</td>\n",
       "      <td>Yoshua Bengio</td>\n",
       "      <td>Deep Learning</td>\n",
       "      <td>What difference between biological neural netw...</td>\n",
       "    </tr>\n",
       "    <tr>\n",
       "      <th>4</th>\n",
       "      <td>5</td>\n",
       "      <td>Vladimir Vapnik</td>\n",
       "      <td>Statistical Learning</td>\n",
       "      <td>The following is a conversation with Vladimir ...</td>\n",
       "    </tr>\n",
       "    <tr>\n",
       "      <th>...</th>\n",
       "      <td>...</td>\n",
       "      <td>...</td>\n",
       "      <td>...</td>\n",
       "      <td>...</td>\n",
       "    </tr>\n",
       "    <tr>\n",
       "      <th>314</th>\n",
       "      <td>321</td>\n",
       "      <td>Ray Kurzweil</td>\n",
       "      <td>Singularity, Superintelligence, and Immortality</td>\n",
       "      <td>By the time he gets to 2045, we'll be able to ...</td>\n",
       "    </tr>\n",
       "    <tr>\n",
       "      <th>315</th>\n",
       "      <td>322</td>\n",
       "      <td>Rana el Kaliouby</td>\n",
       "      <td>Emotion AI, Social Robots, and Self-Driving Cars</td>\n",
       "      <td>there's a broader question here, right? As we ...</td>\n",
       "    </tr>\n",
       "    <tr>\n",
       "      <th>316</th>\n",
       "      <td>323</td>\n",
       "      <td>Will Sasso</td>\n",
       "      <td>Comedy, MADtv, AI, Friendship, Madness, and Pr...</td>\n",
       "      <td>Once this whole thing falls apart and we are c...</td>\n",
       "    </tr>\n",
       "    <tr>\n",
       "      <th>317</th>\n",
       "      <td>324</td>\n",
       "      <td>Daniel Negreanu</td>\n",
       "      <td>Poker</td>\n",
       "      <td>you could be the seventh best player in the wh...</td>\n",
       "    </tr>\n",
       "    <tr>\n",
       "      <th>318</th>\n",
       "      <td>325</td>\n",
       "      <td>Michael Levin</td>\n",
       "      <td>Biology, Life, Aliens, Evolution, Embryogenesi...</td>\n",
       "      <td>turns out that if you train a planarian and th...</td>\n",
       "    </tr>\n",
       "  </tbody>\n",
       "</table>\n",
       "<p>319 rows × 4 columns</p>\n",
       "</div>"
      ],
      "text/plain": [
       "      id             guest                                              title  \\\n",
       "0      1       Max Tegmark                                           Life 3.0   \n",
       "1      2     Christof Koch                                      Consciousness   \n",
       "2      3     Steven Pinker                            AI in the Age of Reason   \n",
       "3      4     Yoshua Bengio                                      Deep Learning   \n",
       "4      5   Vladimir Vapnik                               Statistical Learning   \n",
       "..   ...               ...                                                ...   \n",
       "314  321      Ray Kurzweil    Singularity, Superintelligence, and Immortality   \n",
       "315  322  Rana el Kaliouby   Emotion AI, Social Robots, and Self-Driving Cars   \n",
       "316  323        Will Sasso  Comedy, MADtv, AI, Friendship, Madness, and Pr...   \n",
       "317  324   Daniel Negreanu                                              Poker   \n",
       "318  325     Michael Levin  Biology, Life, Aliens, Evolution, Embryogenesi...   \n",
       "\n",
       "                                                  text  \n",
       "0    As part of MIT course 6S099, Artificial Genera...  \n",
       "1    As part of MIT course 6S099 on artificial gene...  \n",
       "2    You've studied the human mind, cognition, lang...  \n",
       "3    What difference between biological neural netw...  \n",
       "4    The following is a conversation with Vladimir ...  \n",
       "..                                                 ...  \n",
       "314  By the time he gets to 2045, we'll be able to ...  \n",
       "315  there's a broader question here, right? As we ...  \n",
       "316  Once this whole thing falls apart and we are c...  \n",
       "317  you could be the seventh best player in the wh...  \n",
       "318  turns out that if you train a planarian and th...  \n",
       "\n",
       "[319 rows x 4 columns]"
      ]
     },
     "execution_count": 2,
     "metadata": {},
     "output_type": "execute_result"
    }
   ],
   "source": [
    "df=pd.read_csv(\"data/podcastdata_dataset.csv\")\n",
    "df"
   ]
  },
  {
   "cell_type": "markdown",
   "metadata": {},
   "source": [
    "**Step 3: Text Preprocessing**\n",
    "\n",
    "- Delete punctuation \n",
    "- Delete stop words\n"
   ]
  },
  {
   "cell_type": "code",
   "execution_count": 3,
   "metadata": {},
   "outputs": [
    {
     "data": {
      "text/plain": [
       "0    As part of MIT course 6S099, Artificial Genera...\n",
       "1    As part of MIT course 6S099 on artificial gene...\n",
       "2    You've studied the human mind, cognition, lang...\n",
       "3    What difference between biological neural netw...\n",
       "4    The following is a conversation with Vladimir ...\n",
       "5    The following is a conversation with Guido van...\n",
       "6    The following is a conversation with Jeff Atwo...\n",
       "7    The following is a conversation with Eric Schm...\n",
       "8    The following is a conversation with Stuart Ru...\n",
       "9    The following is a conversation with Peter Abb...\n",
       "Name: text, dtype: object"
      ]
     },
     "execution_count": 3,
     "metadata": {},
     "output_type": "execute_result"
    }
   ],
   "source": [
    "corpus=df['text']\n",
    "corpus.head(10)"
   ]
  },
  {
   "cell_type": "code",
   "execution_count": 4,
   "metadata": {},
   "outputs": [],
   "source": [
    "# First, we delete punctuation\n",
    "\n",
    "corpus_nopunct = []\n",
    "for doc in corpus:\n",
    "    corpus_nopunct.append(doc.lower().translate(str.maketrans('', '', string.punctuation)))\n",
    "    "
   ]
  },
  {
   "cell_type": "code",
   "execution_count": null,
   "metadata": {},
   "outputs": [],
   "source": [
    "print(corpus_nopunct[:10])"
   ]
  },
  {
   "cell_type": "code",
   "execution_count": 5,
   "metadata": {},
   "outputs": [],
   "source": [
    "#Add the text without punctuation\n",
    "df['text_nopunct'] = corpus_nopunct"
   ]
  },
  {
   "cell_type": "code",
   "execution_count": 6,
   "metadata": {},
   "outputs": [],
   "source": [
    "stop_words = set(stopwords.words('english'))"
   ]
  },
  {
   "cell_type": "code",
   "execution_count": 7,
   "metadata": {},
   "outputs": [],
   "source": [
    "corpus_nostopw = [\n",
    "    ' '.join(word for word in doc.split(' ') if word not in stop_words)\n",
    "    for doc in corpus_nopunct\n",
    "]"
   ]
  },
  {
   "cell_type": "code",
   "execution_count": null,
   "metadata": {},
   "outputs": [],
   "source": [
    "corpus_nopunct[300]"
   ]
  },
  {
   "cell_type": "code",
   "execution_count": 8,
   "metadata": {},
   "outputs": [],
   "source": [
    "df['text_nostopw'] = corpus_nostopw"
   ]
  },
  {
   "cell_type": "code",
   "execution_count": 9,
   "metadata": {},
   "outputs": [
    {
     "data": {
      "text/html": [
       "<div>\n",
       "<style scoped>\n",
       "    .dataframe tbody tr th:only-of-type {\n",
       "        vertical-align: middle;\n",
       "    }\n",
       "\n",
       "    .dataframe tbody tr th {\n",
       "        vertical-align: top;\n",
       "    }\n",
       "\n",
       "    .dataframe thead th {\n",
       "        text-align: right;\n",
       "    }\n",
       "</style>\n",
       "<table border=\"1\" class=\"dataframe\">\n",
       "  <thead>\n",
       "    <tr style=\"text-align: right;\">\n",
       "      <th></th>\n",
       "      <th>id</th>\n",
       "      <th>guest</th>\n",
       "      <th>title</th>\n",
       "      <th>text</th>\n",
       "      <th>text_nopunct</th>\n",
       "      <th>text_nostopw</th>\n",
       "    </tr>\n",
       "  </thead>\n",
       "  <tbody>\n",
       "    <tr>\n",
       "      <th>0</th>\n",
       "      <td>1</td>\n",
       "      <td>Max Tegmark</td>\n",
       "      <td>Life 3.0</td>\n",
       "      <td>As part of MIT course 6S099, Artificial Genera...</td>\n",
       "      <td>as part of mit course 6s099 artificial general...</td>\n",
       "      <td>part mit course 6s099 artificial general intel...</td>\n",
       "    </tr>\n",
       "    <tr>\n",
       "      <th>1</th>\n",
       "      <td>2</td>\n",
       "      <td>Christof Koch</td>\n",
       "      <td>Consciousness</td>\n",
       "      <td>As part of MIT course 6S099 on artificial gene...</td>\n",
       "      <td>as part of mit course 6s099 on artificial gene...</td>\n",
       "      <td>part mit course 6s099 artificial general intel...</td>\n",
       "    </tr>\n",
       "    <tr>\n",
       "      <th>2</th>\n",
       "      <td>3</td>\n",
       "      <td>Steven Pinker</td>\n",
       "      <td>AI in the Age of Reason</td>\n",
       "      <td>You've studied the human mind, cognition, lang...</td>\n",
       "      <td>youve studied the human mind cognition languag...</td>\n",
       "      <td>youve studied human mind cognition language vi...</td>\n",
       "    </tr>\n",
       "    <tr>\n",
       "      <th>3</th>\n",
       "      <td>4</td>\n",
       "      <td>Yoshua Bengio</td>\n",
       "      <td>Deep Learning</td>\n",
       "      <td>What difference between biological neural netw...</td>\n",
       "      <td>what difference between biological neural netw...</td>\n",
       "      <td>difference biological neural networks artifici...</td>\n",
       "    </tr>\n",
       "    <tr>\n",
       "      <th>4</th>\n",
       "      <td>5</td>\n",
       "      <td>Vladimir Vapnik</td>\n",
       "      <td>Statistical Learning</td>\n",
       "      <td>The following is a conversation with Vladimir ...</td>\n",
       "      <td>the following is a conversation with vladimir ...</td>\n",
       "      <td>following conversation vladimir vapnik hes co ...</td>\n",
       "    </tr>\n",
       "    <tr>\n",
       "      <th>5</th>\n",
       "      <td>6</td>\n",
       "      <td>Guido van Rossum</td>\n",
       "      <td>Python</td>\n",
       "      <td>The following is a conversation with Guido van...</td>\n",
       "      <td>the following is a conversation with guido van...</td>\n",
       "      <td>following conversation guido van rossum creato...</td>\n",
       "    </tr>\n",
       "    <tr>\n",
       "      <th>6</th>\n",
       "      <td>7</td>\n",
       "      <td>Jeff Atwood</td>\n",
       "      <td>Stack Overflow and Coding Horror</td>\n",
       "      <td>The following is a conversation with Jeff Atwo...</td>\n",
       "      <td>the following is a conversation with jeff atwo...</td>\n",
       "      <td>following conversation jeff atwood cofounder s...</td>\n",
       "    </tr>\n",
       "    <tr>\n",
       "      <th>7</th>\n",
       "      <td>8</td>\n",
       "      <td>Eric Schmidt</td>\n",
       "      <td>Google</td>\n",
       "      <td>The following is a conversation with Eric Schm...</td>\n",
       "      <td>the following is a conversation with eric schm...</td>\n",
       "      <td>following conversation eric schmidt ceo google...</td>\n",
       "    </tr>\n",
       "    <tr>\n",
       "      <th>8</th>\n",
       "      <td>9</td>\n",
       "      <td>Stuart Russell</td>\n",
       "      <td>Long-Term Future of AI</td>\n",
       "      <td>The following is a conversation with Stuart Ru...</td>\n",
       "      <td>the following is a conversation with stuart ru...</td>\n",
       "      <td>following conversation stuart russell hes prof...</td>\n",
       "    </tr>\n",
       "    <tr>\n",
       "      <th>9</th>\n",
       "      <td>10</td>\n",
       "      <td>Pieter Abbeel</td>\n",
       "      <td>Deep Reinforcement Learning</td>\n",
       "      <td>The following is a conversation with Peter Abb...</td>\n",
       "      <td>the following is a conversation with peter abb...</td>\n",
       "      <td>following conversation peter abbeel hes profes...</td>\n",
       "    </tr>\n",
       "  </tbody>\n",
       "</table>\n",
       "</div>"
      ],
      "text/plain": [
       "   id             guest                             title  \\\n",
       "0   1       Max Tegmark                          Life 3.0   \n",
       "1   2     Christof Koch                     Consciousness   \n",
       "2   3     Steven Pinker           AI in the Age of Reason   \n",
       "3   4     Yoshua Bengio                     Deep Learning   \n",
       "4   5   Vladimir Vapnik              Statistical Learning   \n",
       "5   6  Guido van Rossum                            Python   \n",
       "6   7       Jeff Atwood  Stack Overflow and Coding Horror   \n",
       "7   8      Eric Schmidt                            Google   \n",
       "8   9    Stuart Russell            Long-Term Future of AI   \n",
       "9  10     Pieter Abbeel       Deep Reinforcement Learning   \n",
       "\n",
       "                                                text  \\\n",
       "0  As part of MIT course 6S099, Artificial Genera...   \n",
       "1  As part of MIT course 6S099 on artificial gene...   \n",
       "2  You've studied the human mind, cognition, lang...   \n",
       "3  What difference between biological neural netw...   \n",
       "4  The following is a conversation with Vladimir ...   \n",
       "5  The following is a conversation with Guido van...   \n",
       "6  The following is a conversation with Jeff Atwo...   \n",
       "7  The following is a conversation with Eric Schm...   \n",
       "8  The following is a conversation with Stuart Ru...   \n",
       "9  The following is a conversation with Peter Abb...   \n",
       "\n",
       "                                        text_nopunct  \\\n",
       "0  as part of mit course 6s099 artificial general...   \n",
       "1  as part of mit course 6s099 on artificial gene...   \n",
       "2  youve studied the human mind cognition languag...   \n",
       "3  what difference between biological neural netw...   \n",
       "4  the following is a conversation with vladimir ...   \n",
       "5  the following is a conversation with guido van...   \n",
       "6  the following is a conversation with jeff atwo...   \n",
       "7  the following is a conversation with eric schm...   \n",
       "8  the following is a conversation with stuart ru...   \n",
       "9  the following is a conversation with peter abb...   \n",
       "\n",
       "                                        text_nostopw  \n",
       "0  part mit course 6s099 artificial general intel...  \n",
       "1  part mit course 6s099 artificial general intel...  \n",
       "2  youve studied human mind cognition language vi...  \n",
       "3  difference biological neural networks artifici...  \n",
       "4  following conversation vladimir vapnik hes co ...  \n",
       "5  following conversation guido van rossum creato...  \n",
       "6  following conversation jeff atwood cofounder s...  \n",
       "7  following conversation eric schmidt ceo google...  \n",
       "8  following conversation stuart russell hes prof...  \n",
       "9  following conversation peter abbeel hes profes...  "
      ]
     },
     "execution_count": 9,
     "metadata": {},
     "output_type": "execute_result"
    }
   ],
   "source": [
    "df.head(10)"
   ]
  },
  {
   "cell_type": "markdown",
   "metadata": {},
   "source": [
    "**Step 4: Vector Space Representation - TF-IDF**\n",
    "\n",
    "Create TF-IDF vector representations of the transcripts."
   ]
  },
  {
   "cell_type": "code",
   "execution_count": 10,
   "metadata": {},
   "outputs": [],
   "source": [
    "tfidf_vectorizer = TfidfVectorizer()\n",
    "tfidf_matrix=tfidf_vectorizer.fit_transform(df['text_nostopw'])"
   ]
  },
  {
   "cell_type": "markdown",
   "metadata": {},
   "source": [
    "***Step 5: Vector Space Representation - BERT***\n",
    "\n",
    "Create BERT vector representations of the transcripts using a pre-trained BERT model."
   ]
  },
  {
   "cell_type": "code",
   "execution_count": 11,
   "metadata": {},
   "outputs": [
    {
     "name": "stderr",
     "output_type": "stream",
     "text": [
      "2024-08-05 17:50:39.842811: I external/local_tsl/tsl/cuda/cudart_stub.cc:32] Could not find cuda drivers on your machine, GPU will not be used.\n",
      "2024-08-05 17:50:41.461069: I external/local_tsl/tsl/cuda/cudart_stub.cc:32] Could not find cuda drivers on your machine, GPU will not be used.\n",
      "2024-08-05 17:50:42.385205: E external/local_xla/xla/stream_executor/cuda/cuda_fft.cc:479] Unable to register cuFFT factory: Attempting to register factory for plugin cuFFT when one has already been registered\n",
      "2024-08-05 17:50:43.183483: E external/local_xla/xla/stream_executor/cuda/cuda_dnn.cc:10575] Unable to register cuDNN factory: Attempting to register factory for plugin cuDNN when one has already been registered\n",
      "2024-08-05 17:50:43.185984: E external/local_xla/xla/stream_executor/cuda/cuda_blas.cc:1442] Unable to register cuBLAS factory: Attempting to register factory for plugin cuBLAS when one has already been registered\n",
      "2024-08-05 17:50:44.372973: I tensorflow/core/platform/cpu_feature_guard.cc:210] This TensorFlow binary is optimized to use available CPU instructions in performance-critical operations.\n",
      "To enable the following instructions: AVX2 FMA, in other operations, rebuild TensorFlow with the appropriate compiler flags.\n",
      "2024-08-05 17:50:51.089608: W tensorflow/compiler/tf2tensorrt/utils/py_utils.cc:38] TF-TRT Warning: Could not find TensorRT\n",
      "/home/jefferson/Documents/Recuperaci-n-de-la-informacion-deberes/.venv/lib/python3.9/site-packages/tqdm/auto.py:21: TqdmWarning: IProgress not found. Please update jupyter and ipywidgets. See https://ipywidgets.readthedocs.io/en/stable/user_install.html\n",
      "  from .autonotebook import tqdm as notebook_tqdm\n"
     ]
    }
   ],
   "source": [
    "import tensorflow as tf\n",
    "from transformers import BertTokenizer, TFBertModel"
   ]
  },
  {
   "cell_type": "code",
   "execution_count": 12,
   "metadata": {},
   "outputs": [],
   "source": [
    "tokenizer = BertTokenizer.from_pretrained('bert-base-uncased')"
   ]
  },
  {
   "cell_type": "code",
   "execution_count": 13,
   "metadata": {},
   "outputs": [
    {
     "name": "stderr",
     "output_type": "stream",
     "text": [
      "2024-08-05 17:51:33.980645: W external/local_tsl/tsl/framework/cpu_allocator_impl.cc:83] Allocation of 93763584 exceeds 10% of free system memory.\n",
      "2024-08-05 17:51:34.254614: W external/local_tsl/tsl/framework/cpu_allocator_impl.cc:83] Allocation of 93763584 exceeds 10% of free system memory.\n",
      "2024-08-05 17:51:34.364332: W external/local_tsl/tsl/framework/cpu_allocator_impl.cc:83] Allocation of 93763584 exceeds 10% of free system memory.\n",
      "2024-08-05 17:51:37.434766: W external/local_tsl/tsl/framework/cpu_allocator_impl.cc:83] Allocation of 93763584 exceeds 10% of free system memory.\n",
      "Some weights of the PyTorch model were not used when initializing the TF 2.0 model TFBertModel: ['cls.predictions.transform.LayerNorm.weight', 'cls.predictions.bias', 'cls.predictions.transform.dense.weight', 'cls.seq_relationship.bias', 'cls.predictions.transform.LayerNorm.bias', 'cls.predictions.transform.dense.bias', 'cls.seq_relationship.weight']\n",
      "- This IS expected if you are initializing TFBertModel from a PyTorch model trained on another task or with another architecture (e.g. initializing a TFBertForSequenceClassification model from a BertForPreTraining model).\n",
      "- This IS NOT expected if you are initializing TFBertModel from a PyTorch model that you expect to be exactly identical (e.g. initializing a TFBertForSequenceClassification model from a BertForSequenceClassification model).\n",
      "All the weights of TFBertModel were initialized from the PyTorch model.\n",
      "If your task is similar to the task the model of the checkpoint was trained on, you can already use TFBertModel for predictions without further training.\n"
     ]
    }
   ],
   "source": [
    "# Load pre-trained BERT model and tokenizer\n",
    "\n",
    "model = TFBertModel.from_pretrained('bert-base-uncased')"
   ]
  },
  {
   "cell_type": "code",
   "execution_count": 14,
   "metadata": {},
   "outputs": [
    {
     "name": "stderr",
     "output_type": "stream",
     "text": [
      "2024-08-05 17:51:50.387048: W external/local_tsl/tsl/framework/cpu_allocator_impl.cc:83] Allocation of 12582912 exceeds 10% of free system memory.\n"
     ]
    }
   ],
   "source": [
    "import numpy as np\n",
    "def generate_bert_embeddings(texts):\n",
    "    embeddings = []\n",
    "    for text in texts:\n",
    "        inputs = tokenizer(text, return_tensors='tf', padding=True, truncation=True)\n",
    "        outputs = model(**inputs)\n",
    "        embeddings.append(outputs.last_hidden_state[:, 0, :])  # Use [CLS] token representation\n",
    "    return np.array(embeddings).transpose(0,2,1)\n",
    "\n",
    "corpus_bert = generate_bert_embeddings(corpus)"
   ]
  },
  {
   "cell_type": "markdown",
   "metadata": {},
   "source": [
    "***Step 6: Query Processing***\n",
    "\n",
    "Define a function to process the query and compute similarity scores using both TF-IDF and BERT embeddings.\n"
   ]
  },
  {
   "cell_type": "code",
   "execution_count": 31,
   "metadata": {},
   "outputs": [],
   "source": [
    "def queryProcessing(query):\n",
    "    query_tovec=tfidf_vectorizer.transform([query])\n",
    "    tfidf_similarities=cosine_similarity(tfidf_matrix,query_tovec)\n",
    "    df_similarities = pd.DataFrame(tfidf_similarities, columns=['Similaridad'])\n",
    "    df_similarities['episodes']=df['title']\n",
    "    \n",
    "    query_to_bert=[f'{query}']\n",
    "    print(query_to_bert)\n",
    "    query_bert = generate_bert_embeddings(query_to_bert)\n",
    "    similarities = cosine_similarity(corpus_bert.reshape(319,768), query_bert.reshape(1,768))\n",
    "    similarities_df = pd.DataFrame(similarities, columns=['sim'])\n",
    "    similarities_df['ep'] = df['title']\n",
    "    return df_similarities, similarities_df\n",
    "    \n",
    "    "
   ]
  },
  {
   "cell_type": "markdown",
   "metadata": {},
   "source": [
    "***Step 7: Retrieve and Compare Results***\n",
    "\n",
    "Define a function to retrieve the top results based on similarity scores for both TF-IDF and BERT representations."
   ]
  },
  {
   "cell_type": "code",
   "execution_count": 32,
   "metadata": {},
   "outputs": [],
   "source": [
    "def retrievalTop(query):\n",
    "    df_resultsTFIDF,df_resultsBERT=queryProcessing(query)\n",
    "    df_resultsTFIDFSorted= df_resultsTFIDF.sort_values(by='Similaridad', ascending=False)\n",
    "    df_resultsBERTSorted=df_resultsBERT.sort_values(by='sim',ascending=False)\n",
    "    return df_resultsBERTSorted,df_resultsTFIDFSorted\n",
    "    \n",
    "    \n",
    "    "
   ]
  },
  {
   "cell_type": "markdown",
   "metadata": {},
   "source": [
    "***Step 8: Test the IR System***\n",
    "\n",
    "Test the system with a sample query.\n",
    "\n",
    "Retrieve and display the top results using both TF-IDF and BERT representations."
   ]
  },
  {
   "cell_type": "code",
   "execution_count": 34,
   "metadata": {},
   "outputs": [
    {
     "name": "stdout",
     "output_type": "stream",
     "text": [
      "['gpt']\n",
      "\n",
      "Top results using BERT:\n",
      "          sim                                                 ep\n",
      "216  0.709173  Virtual Reality, Social Media & the Future of ...\n",
      "49   0.703856    Neuralink, AI, Autopilot, and the Pale Blue Dot\n",
      "199  0.669967                        Totalitarianism and Anarchy\n",
      "133  0.666933  On the Nature of Good and Evil, Genius and Mad...\n",
      "39   0.660287                                             iRobot\n",
      "153  0.659555  Aliens, Black Holes, and the Mystery of the Ou...\n",
      "96   0.657686           Going Big in Business, Investing, and AI\n",
      "163  0.654897  Sleep, Dreams, Creativity & the Limits of the ...\n",
      "34   0.654667        Machines Who Think and the Early Days of AI\n",
      "273  0.654259        Bitcoin, Inflation, and the Future of Money\n",
      "\n",
      "Top results using TFIDF:\n",
      "     Similaridad                                           episodes\n",
      "213     0.099371  OpenAI Codex, GPT-3, Robotics, and the Future ...\n",
      "17      0.032536                                     OpenAI and AGI\n",
      "94      0.028676                                      Deep Learning\n",
      "120     0.028510                    Friendship with an AI Companion\n",
      "117     0.025214  Math, Manim, Neural Networks & Teaching with 3...\n",
      "119     0.011263                           Measures of Intelligence\n",
      "130     0.011053  The Future of Computing and Programming Languages\n",
      "276     0.007757                         Sara Walker and Lee Cronin\n",
      "35      0.007033         fast.ai Deep Learning Courses and Research\n",
      "266     0.006228  Origin of Life, Aliens, Complexity, and Consci...\n",
      "\n",
      "Options:\n",
      "1. New Query\n",
      "2. Exit\n",
      "['virtuality']\n",
      "\n",
      "Top results using BERT:\n",
      "          sim                                                 ep\n",
      "16   0.750573  Revolutionary Ideas in Science, Math, and Society\n",
      "210  0.747096       Nature of Reality, Dreams, and Consciousness\n",
      "199  0.744839                        Totalitarianism and Anarchy\n",
      "273  0.743197        Bitcoin, Inflation, and the Future of Money\n",
      "133  0.741143  On the Nature of Good and Evil, Genius and Mad...\n",
      "292  0.734325                                           DeepMind\n",
      "161  0.733724  The Future of Computing, AI, Life, and Conscio...\n",
      "165  0.731887  Deep Work, Focus, Productivity, Email, and Soc...\n",
      "164  0.729714  Philosophy of Violence, Power, and the Martial...\n",
      "287  0.729259                             iPhone, iPod, and Nest\n",
      "\n",
      "Top results using TFIDF:\n",
      "     Similaridad                                           episodes\n",
      "248     0.032768  Python and the Source Code of Humans, Computer...\n",
      "0       0.000000                                           Life 3.0\n",
      "210     0.000000       Nature of Reality, Dreams, and Consciousness\n",
      "217     0.000000  Programming, Algorithms, Hard Problems & the G...\n",
      "216     0.000000  Virtual Reality, Social Media & the Future of ...\n",
      "215     0.000000                                           Robotics\n",
      "214     0.000000                               Viruses and Vaccines\n",
      "213     0.000000  OpenAI Codex, GPT-3, Robotics, and the Future ...\n",
      "212     0.000000         Isaac Newton and the Philosophy of Science\n",
      "211     0.000000  Gravitational Waves and the Most Precise Devic...\n",
      "\n",
      "Options:\n",
      "1. New Query\n",
      "2. Exit\n",
      "['physics']\n",
      "\n",
      "Top results using BERT:\n",
      "          sim                                                 ep\n",
      "199  0.769140                        Totalitarianism and Anarchy\n",
      "216  0.744126  Virtual Reality, Social Media & the Future of ...\n",
      "49   0.742311    Neuralink, AI, Autopilot, and the Pale Blue Dot\n",
      "273  0.737811        Bitcoin, Inflation, and the Future of Money\n",
      "292  0.729053                                           DeepMind\n",
      "295  0.728783  IQ Tests, Human Intelligence, and Group Differ...\n",
      "12   0.726768                        Brains, Minds, and Machines\n",
      "303  0.724916                                            CIA Spy\n",
      "164  0.722806  Philosophy of Violence, Power, and the Martial...\n",
      "34   0.719864        Machines Who Think and the Early Days of AI\n",
      "\n",
      "Top results using TFIDF:\n",
      "     Similaridad                                           episodes\n",
      "203     0.228243                                      String Theory\n",
      "197     0.182290       The Origin of Life on Earth and Alien Worlds\n",
      "76      0.168888          Physics View of the Mind and Neurobiology\n",
      "244     0.153844  Theories of Everything and Why String Theory i...\n",
      "186     0.143747  Physics of Quarks, Dark Matter, Complexity, Li...\n",
      "79      0.140864  Quantum Gravity and Einstein’s Unfinished Revo...\n",
      "123     0.138546  Fundamental Theory of Physics, Life, and the U...\n",
      "41      0.130775  Quantum Mechanics, String Theory, and Black Holes\n",
      "60      0.128828  Supersymmetry, String Theory and Proving Einst...\n",
      "259     0.113781  Consciousness, Panpsychism, and the Philosophy...\n",
      "\n",
      "Options:\n",
      "1. New Query\n",
      "2. Exit\n",
      "Exiting the system. Goodbye!\n"
     ]
    }
   ],
   "source": [
    "def print_results(dfBERT, dfTFIDF):\n",
    "    print(\"\\nTop results using BERT:\")\n",
    "    print(dfBERT.head(10))\n",
    "    \n",
    "    print(\"\\nTop results using TFIDF:\")\n",
    "    print(dfTFIDF.head(10))\n",
    "\n",
    "def interactive_console():\n",
    "    while True:\n",
    "        query = input(\"Insert the query: \")\n",
    "        \n",
    "        df_resultsBERTSorted, df_resultsTFIDFSorted = retrievalTop(query)\n",
    "        \n",
    "        print_results(df_resultsBERTSorted, df_resultsTFIDFSorted)\n",
    "        \n",
    "        print(\"\\nOptions:\")\n",
    "        print(\"1. New Query\")\n",
    "        print(\"2. Exit\")\n",
    "        \n",
    "        user_choice = input(\"Select an option (1 or 2): \").strip()\n",
    "        \n",
    "        if user_choice == '2':\n",
    "            print(\"Exiting the system. Goodbye!\")\n",
    "            break\n",
    "        elif user_choice == '1':\n",
    "            continue\n",
    "        else:\n",
    "            print(\"Invalid option. Please select '1' for New Query or '2' for Exit.\")\n",
    "\n",
    "interactive_console()"
   ]
  },
  {
   "cell_type": "markdown",
   "metadata": {},
   "source": [
    "***Step 9: Compare Results***\n",
    "\n",
    "Analyze and compare the results obtained from TF-IDF and BERT representations.\n",
    "\n",
    "Discuss the differences, strengths, and weaknesses of each method based on the retrieval results."
   ]
  },
  {
   "cell_type": "markdown",
   "metadata": {},
   "source": [
    "When analyzing the results from BERT and TF-IDF for different queries, distinct differences in their effectiveness become apparent. For the query `['gpt']`, BERT provides results that are highly relevant to the topic of artificial intelligence and technology. The top results include titles like *\"Virtual Reality, Social Media & the Future of ...\"* and *\"Neuralink, AI, Autopilot, and the Pale Blue Dot\"*. These results reflect a deeper understanding of the context and semantic relationships around the term \"GPT.\" In contrast, TF-IDF yields results that are less contextually aligned with the query. Although it includes relevant topics such as *\"OpenAI Codex, GPT-3, Robotics, and the Future ...\"*, the overall relevance is lower compared to BERT’s results.\n",
    "\n",
    "For the query `['virtuality']`, BERT again demonstrates its strength by returning results that are closely related to the themes of reality, science, and philosophy. Titles like *\"Revolutionary Ideas in Science, Math, and Society\"* and *\"Nature of Reality, Dreams, and Consciousness\"* show that BERT can effectively interpret and match the semantic context of \"virtuality.\" On the other hand, TF-IDF results are less specific and often less relevant. For instance, results such as *\"Python and the Source Code of Humans, Computer ...\"* and *\"Life 3.0\"* do not align as well with the thematic essence of the query.\n",
    "\n",
    "When the query is `['physics']`, BERT continues to deliver results that are relevant to the topic of physics and related sciences, showing a good understanding of the context. Results such as *\"Totalitarianism and Anarchy\"* (though not directly relevant, could be interpreted within a broader context) and *\"Virtual Reality, Social Media & the Future of ...\"* highlight BERT’s ability to grasp the conceptual relevance of \"physics.\" Conversely, TF-IDF provides results that are more directly related to the specific term \"physics,\" such as *\"String Theory\"* and *\"Physics View of the Mind and Neurobiology.\"* While these results are more precise in terms of keyword matching, they may miss out on broader contextual relevance.\n",
    "\n",
    "Overall, BERT excels in understanding and capturing the context and semantic relationships of queries, making it more effective for complex and abstract searches. It provides results that reflect a deeper comprehension of the query’s intent. In contrast, TF-IDF is better suited for searches where exact term matching is crucial. Although it may offer more straightforward results for specific keywords, it often lacks the ability to grasp the deeper contextual meaning of the query.\n"
   ]
  },
  {
   "cell_type": "markdown",
   "metadata": {},
   "source": []
  }
 ],
 "metadata": {
  "kernelspec": {
   "display_name": "Python 3",
   "language": "python",
   "name": "python3"
  },
  "language_info": {
   "codemirror_mode": {
    "name": "ipython",
    "version": 3
   },
   "file_extension": ".py",
   "mimetype": "text/x-python",
   "name": "python",
   "nbconvert_exporter": "python",
   "pygments_lexer": "ipython3",
   "version": "3.9.19"
  }
 },
 "nbformat": 4,
 "nbformat_minor": 2
}
