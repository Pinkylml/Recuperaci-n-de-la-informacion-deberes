{
 "cells": [
  {
   "cell_type": "code",
   "execution_count": 3,
   "metadata": {},
   "outputs": [],
   "source": [
    "import requests\n",
    "from bs4 import BeautifulSoup"
   ]
  },
  {
   "cell_type": "code",
   "execution_count": 4,
   "metadata": {},
   "outputs": [],
   "source": [
    "url='https://www.allrecipes.com/'\n",
    "response=requests.get(url)\n",
    "html=response.text"
   ]
  },
  {
   "cell_type": "code",
   "execution_count": 7,
   "metadata": {},
   "outputs": [],
   "source": [
    "# Especifica el nombre del archivo en el que deseas guardar el HTML\n",
    "filename = 'allrecipes.html'\n",
    "\n",
    "# Abre el archivo en modo de escritura ('w') y guarda el HTML en él\n",
    "with open(filename, 'w', encoding='utf-8') as file:\n",
    "    file.write(html)"
   ]
  },
  {
   "cell_type": "code",
   "execution_count": 6,
   "metadata": {},
   "outputs": [
    {
     "name": "stdout",
     "output_type": "stream",
     "text": [
      "\n"
     ]
    }
   ],
   "source": [
    "soup = BeautifulSoup(html, 'html.parser')\n",
    "print(soup)"
   ]
  },
  {
   "cell_type": "code",
   "execution_count": 10,
   "metadata": {},
   "outputs": [
    {
     "name": "stdout",
     "output_type": "stream",
     "text": [
      "Error al hacer la solicitud: 405 Client Error: Signal - Not Acceptable for url: https://www.allrecipes.com/recipes/17562/dinner/\n"
     ]
    }
   ],
   "source": [
    "import requests\n",
    "\n",
    "# Define la URL de la página web que deseas obtener\n",
    "url = 'https://www.allrecipes.com/recipes/17562/dinner/'\n",
    "\n",
    "try:\n",
    "    # Envía una solicitud HTTP GET a la URL\n",
    "    response = requests.get(url)\n",
    "    response.raise_for_status()  # Esto generará una excepción si la solicitud no fue exitosa\n",
    "    \n",
    "    # Obtén el contenido HTML de la respuesta\n",
    "    html = response.text\n",
    "\n",
    "    # Especifica el nombre del archivo en el que deseas guardar el HTML\n",
    "    filename = 'allrecipes.html'\n",
    "\n",
    "    # Abre el archivo en modo de escritura ('w') y guarda el HTML en él\n",
    "    with open(filename, 'w', encoding='utf-8') as file:\n",
    "        file.write(html)\n",
    "\n",
    "    print(f\"El contenido HTML ha sido guardado en {filename}\")\n",
    "\n",
    "except requests.exceptions.RequestException as e:\n",
    "    print(f\"Error al hacer la solicitud: {e}\")\n",
    "\n",
    "except Exception as e:\n",
    "    print(f\"Error al guardar el archivo: {e}\")\n"
   ]
  }
 ],
 "metadata": {
  "kernelspec": {
   "display_name": "Python 3",
   "language": "python",
   "name": "python3"
  },
  "language_info": {
   "codemirror_mode": {
    "name": "ipython",
    "version": 3
   },
   "file_extension": ".py",
   "mimetype": "text/x-python",
   "name": "python",
   "nbconvert_exporter": "python",
   "pygments_lexer": "ipython3",
   "version": "3.12.4"
  }
 },
 "nbformat": 4,
 "nbformat_minor": 2
}
